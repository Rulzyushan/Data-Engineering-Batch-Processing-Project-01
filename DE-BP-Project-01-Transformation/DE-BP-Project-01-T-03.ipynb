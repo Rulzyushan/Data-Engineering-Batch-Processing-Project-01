{
 "cells": [
  {
   "cell_type": "markdown",
   "metadata": {
    "application/vnd.databricks.v1+cell": {
     "cellMetadata": {},
     "inputWidgets": {},
     "nuid": "6f78282c-8b2e-4d08-b282-10ac74de33a7",
     "showTitle": false,
     "tableResultSettingsMap": {},
     "title": ""
    }
   },
   "source": [
    "Transforming column names for all tables in silver container"
   ]
  },
  {
   "cell_type": "code",
   "execution_count": 0,
   "metadata": {
    "application/vnd.databricks.v1+cell": {
     "cellMetadata": {
      "byteLimit": 2048000,
      "rowLimit": 10000
     },
     "inputWidgets": {},
     "nuid": "9373a8be-759a-455d-88af-875c646e847a",
     "showTitle": false,
     "tableResultSettingsMap": {},
     "title": ""
    }
   },
   "outputs": [],
   "source": [
    "\n",
    "table_name = df_dict_T.keys()\n",
    "df_dict_T_S = {}\n",
    "\n",
    "for name in table_name:\n",
    "    \n",
    "    df_TDS = df_dict_T[name]\n",
    "\n",
    "    # Get the list of column names\n",
    "    column_names = df_TDS.columns\n",
    "    \n",
    "    for old_col_name in column_names:\n",
    "        # Convert column name from ColumnName to Column_Name format\n",
    "        # Convert column name from ColumnName to column_name format\n",
    "        uppercase_count = 0\n",
    "        result = []\n",
    "\n",
    "        for char in old_col_name:\n",
    "            if char.isupper():\n",
    "                uppercase_count += 1\n",
    "                if uppercase_count == 2:\n",
    "                    result.append('_' + char.lower())\n",
    "                else:\n",
    "                    result.append(char.lower())\n",
    "            else:\n",
    "                result.append(char)\n",
    "\n",
    "        new_col_name = ''.join(result)\n",
    "        \n",
    "        # Change the column name using withColumnRenamed and regexp_replace\n",
    "        df_TDS = df_TDS.withColumnRenamed(old_col_name, new_col_name)\n",
    "    df_dict_T_S[name] = df_TDS    \n",
    "    #output_path = #################################################\n",
    "    #df_TDS.write.format('delta').mode(\"overwrite\").save(output_path)"
   ]
  },
  {
   "cell_type": "code",
   "execution_count": 0,
   "metadata": {
    "application/vnd.databricks.v1+cell": {
     "cellMetadata": {
      "byteLimit": 2048000,
      "rowLimit": 10000
     },
     "inputWidgets": {},
     "nuid": "754bcd98-1d22-4357-8410-1b2966bf117d",
     "showTitle": false,
     "tableResultSettingsMap": {},
     "title": ""
    }
   },
   "outputs": [
    {
     "output_type": "display_data",
     "data": {
      "text/html": [
       "<style scoped>\n",
       "  .table-result-container {\n",
       "    max-height: 300px;\n",
       "    overflow: auto;\n",
       "  }\n",
       "  table, th, td {\n",
       "    border: 1px solid black;\n",
       "    border-collapse: collapse;\n",
       "  }\n",
       "  th, td {\n",
       "    padding: 5px;\n",
       "  }\n",
       "  th {\n",
       "    text-align: left;\n",
       "  }\n",
       "</style><div class='table-result-container'><table class='table-result'><thead style='background-color: white'><tr><th>address_id</th><th>address_line1</th><th>address_line2</th><th>city</th><th>state_province</th><th>country_region</th><th>postal_code</th><th>rowguid</th><th>modified_date</th></tr></thead><tbody><tr><td>297</td><td>7943 Walnut Ave</td><td>null</td><td>Renton</td><td>Washington</td><td>United States</td><td>98055</td><td>52410DA4-2778-4B1D-A599-95746625CE6D</td><td>2006-08-01</td></tr><tr><td>25</td><td>9178 Jumping St.</td><td>null</td><td>Dallas</td><td>Texas</td><td>United States</td><td>75201</td><td>C8DF3BD9-48F0-4654-A8DD-14A67A84D3C6</td><td>2006-09-01</td></tr><tr><td>446</td><td>52560 Free Street</td><td>null</td><td>Toronto</td><td>Ontario</td><td>Canada</td><td>M4B 1V7</td><td>801A1DFC-5125-486B-AA84-CCBD2EC57CA4</td><td>2005-08-01</td></tr><tr><td>32</td><td>26910 Indela Road</td><td>null</td><td>Montreal</td><td>Quebec</td><td>Canada</td><td>H1Y 2H5</td><td>84A95F62-3AE8-4E7E-BBD5-5A6F00CD982D</td><td>2006-08-01</td></tr><tr><td>185</td><td>2681 Eagle Peak</td><td>null</td><td>Bellevue</td><td>Washington</td><td>United States</td><td>98004</td><td>7BCCF442-2268-46CC-8472-14C44C14E98C</td><td>2006-09-01</td></tr><tr><td>11</td><td>1318 Lasalle Street</td><td>null</td><td>Bothell</td><td>Washington</td><td>United States</td><td>98011</td><td>981B3303-ACA2-49C7-9A96-FB670785B269</td><td>2007-04-01</td></tr><tr><td>445</td><td>6388 Lake City Way</td><td>null</td><td>Burnaby</td><td>British Columbia</td><td>Canada</td><td>V5A 3A6</td><td>53572F25-9133-4A8B-A065-102FF35416EE</td><td>2006-09-01</td></tr><tr><td>449</td><td>Station E</td><td>null</td><td>Chalk Riber</td><td>Ontario</td><td>Canada</td><td>K0J 1J0</td><td>8B5A7729-CB75-4303-A607-7F9793B4D94F</td><td>2005-08-01</td></tr><tr><td>9</td><td>8713 Yosemite Ct.</td><td>null</td><td>Bothell</td><td>Washington</td><td>United States</td><td>98011</td><td>268AF621-76D7-4C78-9441-144FD139821A</td><td>2006-07-01</td></tr><tr><td>447</td><td>22580 Free Street</td><td>null</td><td>Toronto</td><td>Ontario</td><td>Canada</td><td>M4B 1V7</td><td>88CEE379-DBB8-433B-B84E-A35E09435500</td><td>2006-08-01</td></tr><tr><td>28</td><td>9228 Via Del Sol</td><td>null</td><td>Phoenix</td><td>Arizona</td><td>United States</td><td>85004</td><td>12AE5EE1-FC3E-468B-9B92-3B970B169774</td><td>2005-09-01</td></tr><tr><td>448</td><td>2575 Bloor Street East</td><td>null</td><td>Toronto</td><td>Ontario</td><td>Canada</td><td>M4B 1V6</td><td>2DF6D0AD-0926-4F34-A450-9B1083150CBF</td><td>2007-08-01</td></tr><tr><td>453</td><td>6333 Cote Vertu</td><td>null</td><td>Montreal</td><td>Quebec</td><td>Canada</td><td>H1Y 2H7</td><td>355681F2-4D9D-4522-BFA0-105BE64394D8</td><td>2007-09-01</td></tr><tr><td>462</td><td>630 University Avenue</td><td>null</td><td>Toronto</td><td>Ontario</td><td>Canada</td><td>M4B 1V7</td><td>27D5BDAD-647D-4A56-859A-BC6A82AF7DCD</td><td>2005-08-01</td></tr><tr><td>458</td><td>600 Slater Street</td><td>null</td><td>Ottawa</td><td>Ontario</td><td>Canada</td><td>K4B 1S2</td><td>49F4EE42-E20B-4E66-B43C-A28E9FC63CA0</td><td>2005-07-01</td></tr><tr><td>455</td><td>2550 Signet Drive</td><td>null</td><td>Weston</td><td>Ontario</td><td>Canada</td><td>M9V 4W3</td><td>43D582CF-E95F-4861-BA60-2DC7121410A6</td><td>2006-08-01</td></tr><tr><td>452</td><td>55 Lakeshore Blvd East</td><td>null</td><td>Toronto</td><td>Ontario</td><td>Canada</td><td>M4B 1V6</td><td>A358652F-0E00-49E6-B6B0-DE1099C43506</td><td>2005-09-01</td></tr><tr><td>450</td><td>575 Rue St Amable</td><td>null</td><td>Quebec</td><td>Quebec</td><td>Canada</td><td>G1R</td><td>5F3C345A-6475-41D5-B17B-DB8D27733BB1</td><td>2006-09-01</td></tr><tr><td>457</td><td>5250-505 Burning St</td><td>null</td><td>Vancouver</td><td>British Columbia</td><td>Canada</td><td>V7L 4J4</td><td>93F02C61-783D-4F04-8A57-416F25817ABA</td><td>2006-07-01</td></tr><tr><td>456</td><td>6777 Kingsway</td><td>null</td><td>Burnaby</td><td>British Columbia</td><td>Canada</td><td>V5H 3Z7</td><td>2F3B383E-08A5-407D-AB1B-A1390E87A888</td><td>2006-08-01</td></tr><tr><td>460</td><td>2521 McPherson Street</td><td>null</td><td>Markham</td><td>Ontario</td><td>Canada</td><td>L3S 3K2</td><td>7D6F03AC-5D55-422E-850E-B8743FAC81B2</td><td>2007-08-01</td></tr><tr><td>451</td><td>2512-4th Ave Sw</td><td>null</td><td>Calgary</td><td>Alberta</td><td>Canada</td><td>T2P 2G8</td><td>49644F1E-6F90-46D9-8DBB-9DB15F0EF7EC</td><td>2006-12-01</td></tr><tr><td>454</td><td>3255 Front Street West</td><td>null</td><td>Toronto</td><td>Ontario</td><td>Canada</td><td>M4B 1V6</td><td>EF4DC57D-8B8B-4074-B5F0-ACBEF65DBEC1</td><td>2007-08-01</td></tr><tr><td>461</td><td>2560 Bay Street</td><td>null</td><td>Toronto</td><td>Ontario</td><td>Canada</td><td>M4B 1V7</td><td>726819A8-1B02-4EFD-AEB9-3FD801D9F153</td><td>2006-08-01</td></tr><tr><td>459</td><td>25575 The Queensway</td><td>null</td><td>Etobicoke</td><td>Ontario</td><td>Canada</td><td>M9W 3P3</td><td>616235EA-DC36-4C39-BF91-FFE12BB676E0</td><td>2005-08-01</td></tr><tr><td>464</td><td>99, Rue Saint-pierre</td><td>null</td><td>Pnot-Rouge</td><td>Quebec</td><td>Canada</td><td>J1E 2T7</td><td>C4A1EE36-8149-46B7-A313-A63010987A8E</td><td>2005-07-01</td></tr><tr><td>473</td><td>595 Burning Street</td><td>null</td><td>Vancouver</td><td>British Columbia</td><td>Canada</td><td>V7L 4J4</td><td>0EC83A85-137E-4CF3-B13D-3926277698B2</td><td>2005-09-01</td></tr><tr><td>469</td><td>400-25155 West Pender St</td><td>null</td><td>Vancouver</td><td>British Columbia</td><td>Canada</td><td>V7L 4J4</td><td>B81768F9-3B05-43DC-8DDE-85FFCA00D4DE</td><td>2007-09-01</td></tr><tr><td>467</td><td>25900-700-9th Ave S.W.</td><td>null</td><td>Calgary</td><td>Alberta</td><td>Canada</td><td>T2P 2G8</td><td>13560188-CE4A-470D-9913-49903047D459</td><td>2005-11-01</td></tr><tr><td>468</td><td>Po Box 83270</td><td>null</td><td>Vancouver</td><td>British Columbia</td><td>Canada</td><td>V7L 4J4</td><td>C00A5DFF-B134-4900-9561-E67EEB425F9F</td><td>2007-08-01</td></tr><tr><td>472</td><td>250551 Shellbridge Way</td><td>null</td><td>Richmond</td><td>British Columbia</td><td>Canada</td><td>V6B 3P7</td><td>1A6A1A7B-E208-473D-A8F4-14A89D06FAD2</td><td>2005-09-01</td></tr><tr><td>465</td><td>25245 Rue Sherbrooke Ouest</td><td>null</td><td>Montreal</td><td>Quebec</td><td>Canada</td><td>H1Y 2H5</td><td>10EE8C14-2792-4F02-B83D-92511D20470F</td><td>2007-07-01</td></tr><tr><td>470</td><td>2511 Baker Road</td><td>null</td><td>Toronto</td><td>Ontario</td><td>Canada</td><td>M4B 1V7</td><td>6E934D97-69B9-4FCF-9E4E-56BF94E52986</td><td>2005-09-01</td></tr><tr><td>471</td><td>770 Notre Datme Quest Bureau 800</td><td>null</td><td>Montreal</td><td>Quebec</td><td>Canada</td><td>H1Y 2H7</td><td>5EDA011D-31D1-4DFB-A78C-397B6335F85B</td><td>2005-09-01</td></tr><tr><td>466</td><td>655-4th Ave S.W.</td><td>null</td><td>Calgary</td><td>Alberta</td><td>Canada</td><td>T2P 2G8</td><td>09C5F0BA-7128-4455-832D-0DF587248A5A</td><td>2005-08-01</td></tr><tr><td>463</td><td>992 St Clair Ave East</td><td>null</td><td>Toronto</td><td>Ontario</td><td>Canada</td><td>M4B 1V7</td><td>D6ED51FA-6DD1-460C-99E0-64BA90F035AE</td><td>2005-09-01</td></tr><tr><td>474</td><td>252345 8810th Avenue</td><td>null</td><td>Surrey</td><td>British Columbia</td><td>Canada</td><td>V3T 4W3</td><td>447CA097-077D-4980-A431-8FAFAD156CED</td><td>2005-09-01</td></tr><tr><td>475</td><td>2512-410th Avenue S.W.</td><td>null</td><td>Calgary</td><td>Alberta</td><td>Canada</td><td>T2P 2G8</td><td>EC6C99B9-61E2-4400-8180-208F5A6C7EFF</td><td>2007-09-01</td></tr><tr><td>480</td><td>25 First Canadian Place</td><td>null</td><td>Toronto</td><td>Ontario</td><td>Canada</td><td>M4B 1V5</td><td>07A009B2-1421-4597-AB85-22BCE3C82B2C</td><td>2005-08-01</td></tr><tr><td>486</td><td>600 Boul. Rene-levesque Ouest</td><td>null</td><td>Montreal</td><td>Quebec</td><td>Canada</td><td>H1Y 2H7</td><td>112049E4-64D5-4305-9545-933E89B74F6E</td><td>2006-07-01</td></tr><tr><td>484</td><td>2510 Crew Court</td><td>null</td><td>Montreal</td><td>Quebec</td><td>Canada</td><td>H1Y 2H8</td><td>1F41EDC1-7144-4D6B-9CBD-4318C2358FA1</td><td>2008-06-01</td></tr><tr><td>481</td><td>65 Gamelin Street</td><td>null</td><td>Hull</td><td>Quebec</td><td>Canada</td><td>8Y</td><td>F35E73BA-678F-4A0F-80BC-6385A7A6CB24</td><td>2006-08-01</td></tr><tr><td>482</td><td>2500 University Avenue</td><td>null</td><td>Toronto</td><td>Ontario</td><td>Canada</td><td>M4B 1V5</td><td>197A1735-E89E-4F15-A5F7-FEB98B369094</td><td>2005-07-01</td></tr><tr><td>476</td><td>258 King Street East</td><td>null</td><td>Toronto</td><td>Ontario</td><td>Canada</td><td>M4B 1V7</td><td>90C770A5-A474-43D1-9A67-0F5DE336F9DC</td><td>2005-08-01</td></tr><tr><td>478</td><td>2545 King Street West</td><td>null</td><td>Toronto</td><td>Ontario</td><td>Canada</td><td>M4B 1V7</td><td>2817A0B7-8985-4527-BB7B-B75F55F4D8DE</td><td>2005-08-01</td></tr><tr><td>483</td><td>955 Green Valley Crescent</td><td>null</td><td>Ottawa</td><td>Ontario</td><td>Canada</td><td>K4B 1S1</td><td>C6B743C3-F830-43E4-BA58-DD36FC451D14</td><td>2007-09-01</td></tr><tr><td>487</td><td>9259 - 1110th Avenue Sw</td><td>null</td><td>Calgary</td><td>Alberta</td><td>Canada</td><td>T2P 2G8</td><td>275AC976-0D23-4D97-9F58-BB186D1CC089</td><td>2006-09-01</td></tr><tr><td>479</td><td>2550 Middlefield Road</td><td>null</td><td>Scarborough</td><td>Ontario</td><td>Canada</td><td>M1V 4M2</td><td>E60801BF-CFB3-4606-A738-8AA0EB587AFB</td><td>2005-08-01</td></tr><tr><td>477</td><td>6th Floor Ferguson Block</td><td>null</td><td>Toronto</td><td>Ontario</td><td>Canada</td><td>M4B 1V7</td><td>39F3B067-2263-4591-ABF9-D5210DA4F783</td><td>2005-08-01</td></tr><tr><td>485</td><td>9900-6400 Boul, Taschereau</td><td>null</td><td>Brossard</td><td>Quebec</td><td>Canada</td><td>J4Z 1R4</td><td>7C46D2FC-E31E-402F-A093-4CF18F7F6E54</td><td>2006-07-01</td></tr><tr><td>488</td><td>45259 Canada Way</td><td>null</td><td>Burnaby</td><td>British Columbia</td><td>Canada</td><td>V5G 4S4</td><td>6D2D6846-3F17-474E-8D31-AD3A59C0CEB0</td><td>2007-08-01</td></tr><tr><td>489</td><td>9960 King Street E.</td><td>null</td><td>Toronto</td><td>Ontario</td><td>Canada</td><td>M4B 1V5</td><td>EB632E56-4299-4714-9E91-224319BDCB62</td><td>2007-08-01</td></tr><tr><td>493</td><td>6th Floor 5250 Main Street</td><td>null</td><td>Winnipeg</td><td>Manitoba</td><td>Canada</td><td>R3</td><td>AC0E73D8-FF0A-42BD-8502-E19EBAC7343F</td><td>2007-09-01</td></tr><tr><td>497</td><td>#9900 2700 Production Way</td><td>null</td><td>Burnaby</td><td>British Columbia</td><td>Canada</td><td>V5A 4X1</td><td>AA651B28-0A51-4084-8444-A70CC71BCE65</td><td>2005-08-01</td></tr><tr><td>498</td><td>25537 Hillside Avenue</td><td>null</td><td>Victoria</td><td>British Columbia</td><td>Canada</td><td>V8V</td><td>385C24E0-E20C-40C9-BAC9-95D70D5B6900</td><td>2005-08-01</td></tr><tr><td>495</td><td>Suite 800 2530 Slater Street</td><td>null</td><td>Ottawa</td><td>Ontario</td><td>Canada</td><td>K4B 1T7</td><td>C6633AD5-006D-4967-B97E-7919DD48A700</td><td>2006-09-01</td></tr><tr><td>491</td><td>20225 Lansing Ave</td><td>null</td><td>Montreal</td><td>Quebec</td><td>Canada</td><td>H1Y 2H7</td><td>A9B5A261-2463-4489-9951-EACFA29A8231</td><td>2007-09-01</td></tr><tr><td>496</td><td>Suite 500 995 W. 11th Avenue</td><td>null</td><td>Mississauga</td><td>Ontario</td><td>Canada</td><td>L5A 1H6</td><td>496C1AD3-2925-4322-8811-890AB6107F67</td><td>2007-08-01</td></tr><tr><td>490</td><td>9979 Bayview Drive</td><td>null</td><td>Barrie</td><td>Ontario</td><td>Canada</td><td>L4N</td><td>85D72A98-F631-457C-8FFF-04FAEC508F5D</td><td>2006-08-01</td></tr><tr><td>499</td><td>Suite 2502 410 Albert Street</td><td>null</td><td>Waterloo</td><td>Ontario</td><td>Canada</td><td>N2V</td><td>44099B0E-03F3-447C-83BF-BE4BAA010A83</td><td>2006-08-01</td></tr><tr><td>494</td><td>Box 99354 300 Union Street</td><td>null</td><td>Saint John</td><td>Brunswick</td><td>Canada</td><td>E2P 1E3</td><td>21FF77A8-39DC-44D8-917C-FDD645DBF9EB</td><td>2006-07-01</td></tr><tr><td>492</td><td>99954 Boul. Laurier, Local 060, Place</td><td>null</td><td>Sainte-Foy</td><td>Quebec</td><td>Canada</td><td>G1W</td><td>541CDE7C-3F3A-435F-A7B5-F30055DFBC68</td><td>2007-09-01</td></tr><tr><td>511</td><td>Bureau 9900 825, Avenue Querbes</td><td>null</td><td>Outremont</td><td>Quebec</td><td>Canada</td><td>H1Y 2G5</td><td>EF10CF20-A540-4D5C-BEFD-1B48B7D48402</td><td>2006-12-01</td></tr><tr><td>507</td><td>975 Princess Street</td><td>null</td><td>Kingston</td><td>Ontario</td><td>Canada</td><td>7L</td><td>D7849F5F-C042-4FCE-8F6B-BA5CD8708E10</td><td>2007-09-01</td></tr><tr><td>506</td><td>255117 - 101 Avenue</td><td>null</td><td>Surrey</td><td>British Columbia</td><td>Canada</td><td>V3T 4W3</td><td>22895B47-6086-4550-B437-A75DBEDFE1D9</td><td>2005-08-01</td></tr><tr><td>512</td><td>700 Bureau Road</td><td>null</td><td>Montreal</td><td>Quebec</td><td>Canada</td><td>H1Y 2H7</td><td>963F514B-7752-46E8-9742-1FD40A68EA33</td><td>2007-09-01</td></tr><tr><td>501</td><td>965 De La Gauchetiere West</td><td>null</td><td>Montreal</td><td>Quebec</td><td>Canada</td><td>H1Y 2H8</td><td>ACB9C033-18C6-4F02-975E-9C5226B96B72</td><td>2005-08-01</td></tr><tr><td>505</td><td>6400, 888 - 3rd Avenue</td><td>null</td><td>Calgary</td><td>Alberta</td><td>Canada</td><td>T2P 2G8</td><td>A6EFF2B6-3B11-47EF-AB7E-701E5041C71C</td><td>2005-08-01</td></tr><tr><td>503</td><td>P.O. Box 44000</td><td>null</td><td>Winnipeg</td><td>Manitoba</td><td>Canada</td><td>R3</td><td>C4F3E274-13E1-4A99-8FD3-2C7D3D1EE5A1</td><td>2005-08-01</td></tr><tr><td>502</td><td>No. 25400 10665 Jasper Avenue</td><td>null</td><td>Edmonton</td><td>Alberta</td><td>Canada</td><td>T5</td><td>51180CA2-6614-46A5-B89C-EF7B0421C847</td><td>2006-08-01</td></tr><tr><td>508</td><td>2900 - 25055 Dunning Street</td><td>null</td><td>Vancouver</td><td>British Columbia</td><td>Canada</td><td>V7L 4J4</td><td>4EE0334F-027C-4036-880F-6E9104E21533</td><td>2006-12-01</td></tr><tr><td>509</td><td>Suite 25800 3401 - 10810th Avenue</td><td>null</td><td>Surrey</td><td>British Columbia</td><td>Canada</td><td>V3T 4W3</td><td>28C52717-7117-41B6-A5C7-FDA60D566163</td><td>2005-08-01</td></tr><tr><td>504</td><td>Suite 99320 255 - 510th Avenue S.W.</td><td>null</td><td>Calgary</td><td>Alberta</td><td>Canada</td><td>T2P 2G8</td><td>CFF7437F-6830-4797-875B-D9A54EA38975</td><td>2005-08-01</td></tr><tr><td>500</td><td>5700 Explorer Drive</td><td>null</td><td>Mississauga</td><td>Ontario</td><td>Canada</td><td>L4W 5J3</td><td>F6FED7FA-39D9-4A60-A1F5-1622489E55FD</td><td>2005-08-01</td></tr><tr><td>510</td><td>750 Philip Street</td><td>null</td><td>Waterloo</td><td>Ontario</td><td>Canada</td><td>N2V</td><td>F2B96299-187A-4E52-96DE-FE9D1C8AB33F</td><td>2005-11-01</td></tr><tr><td>516</td><td>251 Indell Lane</td><td>null</td><td>Brampton</td><td>Ontario</td><td>Canada</td><td>L6W 2T7</td><td>A1F36994-B5B3-4646-87EA-692A513395EA</td><td>2006-08-01</td></tr><tr><td>515</td><td>9900 Ronson Drive</td><td>null</td><td>Etobicoke</td><td>Ontario</td><td>Canada</td><td>M9W 3P3</td><td>42242712-6DD2-423F-9B89-C953454E3B09</td><td>2006-07-01</td></tr><tr><td>519</td><td>2500-622 5th Ave Sw</td><td>null</td><td>Calgary</td><td>Alberta</td><td>Canada</td><td>T2P 2G8</td><td>13754965-6A09-4343-968C-8699C27FDFAA</td><td>2006-08-01</td></tr><tr><td>514</td><td>63 West Beaver Creek</td><td>null</td><td>Richmond Hill</td><td>Ontario</td><td>Canada</td><td>L4E 3M5</td><td>AD60DBA9-3B01-47E9-BB5E-DF94D0579F14</td><td>2006-09-01</td></tr><tr><td>517</td><td>2573 Dufferin Street</td><td>null</td><td>Toronto</td><td>Ontario</td><td>Canada</td><td>M4B 1V5</td><td>97605C5C-8309-44F2-9A98-C5A5709497FF</td><td>2005-07-01</td></tr><tr><td>513</td><td>253711 Mayfield Place, Unit 150</td><td>null</td><td>Richmond</td><td>British Columbia</td><td>Canada</td><td>V6B 3P7</td><td>C418C2F4-6B32-4404-AAB1-E0BEC3958C11</td><td>2007-09-01</td></tr><tr><td>518</td><td>995 Crescent</td><td>null</td><td>Richmond Hill</td><td>Ontario</td><td>Canada</td><td>L4E 3M5</td><td>0B49022D-8B49-4CF6-B0A3-46231CD48441</td><td>2007-09-01</td></tr><tr><td>524</td><td>9693 Louis H Lafontaine</td><td>null</td><td>Ville De'anjou</td><td>Quebec</td><td>Canada</td><td>J1G 2R3</td><td>ACC21BD9-FB1B-4764-941B-2FB98AA4EB27</td><td>2006-08-01</td></tr><tr><td>522</td><td>43251 Viking Way, Unit 130</td><td>null</td><td>Richmond</td><td>British Columbia</td><td>Canada</td><td>V6B 3P7</td><td>842BCBE5-9DA5-42D5-A4BB-4197DB5B69C7</td><td>2007-02-01</td></tr><tr><td>521</td><td>55 Standish Court</td><td>null</td><td>Mississauga</td><td>Ontario</td><td>Canada</td><td>L5B 3V4</td><td>97C329E2-FA67-4478-AA7B-78A8DEECF7CA</td><td>2006-09-01</td></tr><tr><td>520</td><td>6700 Boul Taschereau</td><td>null</td><td>Brossard</td><td>Quebec</td><td>Canada</td><td>J4Z 1C5</td><td>B730EAFF-5828-4C8C-86C1-9137F50FCA48</td><td>2005-09-01</td></tr><tr><td>523</td><td>46990 Viking Way</td><td>null</td><td>Richmond</td><td>British Columbia</td><td>Canada</td><td>V6B 3P7</td><td>85C88CD6-682C-4358-9F8C-5A24F4CCFD98</td><td>2005-08-01</td></tr><tr><td>532</td><td>#500-75 O'Connor Street</td><td>null</td><td>Ottawa</td><td>Ontario</td><td>Canada</td><td>K4B 1S2</td><td>1B58B9BC-A691-4927-BF17-569E4BE822F3</td><td>2005-12-01</td></tr><tr><td>531</td><td>5th Floor, 79 Place D'armes</td><td>null</td><td>Kingston</td><td>Ontario</td><td>Canada</td><td>7L</td><td>F6FB5F79-C5FA-4A7C-8D75-6E9243360308</td><td>2006-11-01</td></tr><tr><td>528</td><td>5990 Avebury Road</td><td>null</td><td>Mississauga</td><td>Ontario</td><td>Canada</td><td>L5B 3V4</td><td>D9928CCC-FC35-435A-8A0F-6887813E0E06</td><td>2005-09-01</td></tr><tr><td>526</td><td>251420a 170th Street</td><td>null</td><td>Edmonton</td><td>Alberta</td><td>Canada</td><td>T5</td><td>476D80AE-69A0-480D-9DF3-8FD0C1095A21</td><td>2006-07-01</td></tr><tr><td>535</td><td>250 Kingsbridge Garden Circle</td><td>null</td><td>Mississauga</td><td>Ontario</td><td>Canada</td><td>L5B 3V4</td><td>9771494E-9053-40F2-84A5-E0D108DEEFED</td><td>2005-11-01</td></tr><tr><td>527</td><td>252851 Rowan Place</td><td>null</td><td>Richmond</td><td>British Columbia</td><td>Canada</td><td>V6B 3P7</td><td>11EAEE50-8A14-4B81-951E-86701B6F60C0</td><td>2006-09-01</td></tr><tr><td>536</td><td>No. 2000-25080 Beaver Hall Hill</td><td>null</td><td>Quebec</td><td>Quebec</td><td>Canada</td><td>G1R</td><td>0C38C439-4562-4E37-8F23-AFF2C9005C38</td><td>2006-09-01</td></tr><tr><td>534</td><td>Depot 80</td><td>null</td><td>Sillery</td><td>Quebec</td><td>Canada</td><td>G1T</td><td>3178440D-5C3A-48F2-AF6B-0A607774E265</td><td>2005-08-01</td></tr><tr><td>530</td><td>Suite #9902</td><td>null</td><td>North York</td><td>Ontario</td><td>Canada</td><td>M4C 4K6</td><td>FE36E0C8-AD8A-4D2C-BC53-5D69BE5A9CE7</td><td>2005-07-01</td></tr><tr><td>537</td><td>No. 25800-130 King Street West</td><td>null</td><td>Toronto</td><td>Ontario</td><td>Canada</td><td>M4B 1V5</td><td>C2BCDAEC-366C-489C-BF43-8CC2881179F3</td><td>2005-09-01</td></tr><tr><td>529</td><td>254480 River Rd</td><td>null</td><td>Richmond</td><td>British Columbia</td><td>Canada</td><td>V6B 3P7</td><td>034076FD-CD0E-4EAD-864E-8CE7F47D6612</td><td>2005-07-01</td></tr><tr><td>533</td><td>4400 March Road</td><td>null</td><td>Kanata</td><td>Ontario</td><td>Canada</td><td>K2L 1H5</td><td>43484CD9-AD5B-41F4-A9CC-DDFBAC4B5AA5</td><td>2005-11-01</td></tr><tr><td>525</td><td>69251 Creditview Road</td><td>null</td><td>Mississauga</td><td>Ontario</td><td>Canada</td><td>L5B 3V4</td><td>2CA11975-213A-46FB-A0BE-2529003074CC</td><td>2005-07-01</td></tr></tbody></table></div>"
      ]
     },
     "metadata": {
      "application/vnd.databricks.v1+output": {
       "addedWidgets": {},
       "aggData": [],
       "aggError": "",
       "aggOverflow": false,
       "aggSchema": [],
       "aggSeriesLimitReached": false,
       "aggType": "",
       "arguments": {},
       "columnCustomDisplayInfos": {},
       "data": [
        [
         297,
         "7943 Walnut Ave",
         null,
         "Renton",
         "Washington",
         "United States",
         "98055",
         "52410DA4-2778-4B1D-A599-95746625CE6D",
         "2006-08-01"
        ],
        [
         25,
         "9178 Jumping St.",
         null,
         "Dallas",
         "Texas",
         "United States",
         "75201",
         "C8DF3BD9-48F0-4654-A8DD-14A67A84D3C6",
         "2006-09-01"
        ],
        [
         446,
         "52560 Free Street",
         null,
         "Toronto",
         "Ontario",
         "Canada",
         "M4B 1V7",
         "801A1DFC-5125-486B-AA84-CCBD2EC57CA4",
         "2005-08-01"
        ],
        [
         32,
         "26910 Indela Road",
         null,
         "Montreal",
         "Quebec",
         "Canada",
         "H1Y 2H5",
         "84A95F62-3AE8-4E7E-BBD5-5A6F00CD982D",
         "2006-08-01"
        ],
        [
         185,
         "2681 Eagle Peak",
         null,
         "Bellevue",
         "Washington",
         "United States",
         "98004",
         "7BCCF442-2268-46CC-8472-14C44C14E98C",
         "2006-09-01"
        ],
        [
         11,
         "1318 Lasalle Street",
         null,
         "Bothell",
         "Washington",
         "United States",
         "98011",
         "981B3303-ACA2-49C7-9A96-FB670785B269",
         "2007-04-01"
        ],
        [
         445,
         "6388 Lake City Way",
         null,
         "Burnaby",
         "British Columbia",
         "Canada",
         "V5A 3A6",
         "53572F25-9133-4A8B-A065-102FF35416EE",
         "2006-09-01"
        ],
        [
         449,
         "Station E",
         null,
         "Chalk Riber",
         "Ontario",
         "Canada",
         "K0J 1J0",
         "8B5A7729-CB75-4303-A607-7F9793B4D94F",
         "2005-08-01"
        ],
        [
         9,
         "8713 Yosemite Ct.",
         null,
         "Bothell",
         "Washington",
         "United States",
         "98011",
         "268AF621-76D7-4C78-9441-144FD139821A",
         "2006-07-01"
        ],
        [
         447,
         "22580 Free Street",
         null,
         "Toronto",
         "Ontario",
         "Canada",
         "M4B 1V7",
         "88CEE379-DBB8-433B-B84E-A35E09435500",
         "2006-08-01"
        ],
        [
         28,
         "9228 Via Del Sol",
         null,
         "Phoenix",
         "Arizona",
         "United States",
         "85004",
         "12AE5EE1-FC3E-468B-9B92-3B970B169774",
         "2005-09-01"
        ],
        [
         448,
         "2575 Bloor Street East",
         null,
         "Toronto",
         "Ontario",
         "Canada",
         "M4B 1V6",
         "2DF6D0AD-0926-4F34-A450-9B1083150CBF",
         "2007-08-01"
        ],
        [
         453,
         "6333 Cote Vertu",
         null,
         "Montreal",
         "Quebec",
         "Canada",
         "H1Y 2H7",
         "355681F2-4D9D-4522-BFA0-105BE64394D8",
         "2007-09-01"
        ],
        [
         462,
         "630 University Avenue",
         null,
         "Toronto",
         "Ontario",
         "Canada",
         "M4B 1V7",
         "27D5BDAD-647D-4A56-859A-BC6A82AF7DCD",
         "2005-08-01"
        ],
        [
         458,
         "600 Slater Street",
         null,
         "Ottawa",
         "Ontario",
         "Canada",
         "K4B 1S2",
         "49F4EE42-E20B-4E66-B43C-A28E9FC63CA0",
         "2005-07-01"
        ],
        [
         455,
         "2550 Signet Drive",
         null,
         "Weston",
         "Ontario",
         "Canada",
         "M9V 4W3",
         "43D582CF-E95F-4861-BA60-2DC7121410A6",
         "2006-08-01"
        ],
        [
         452,
         "55 Lakeshore Blvd East",
         null,
         "Toronto",
         "Ontario",
         "Canada",
         "M4B 1V6",
         "A358652F-0E00-49E6-B6B0-DE1099C43506",
         "2005-09-01"
        ],
        [
         450,
         "575 Rue St Amable",
         null,
         "Quebec",
         "Quebec",
         "Canada",
         "G1R",
         "5F3C345A-6475-41D5-B17B-DB8D27733BB1",
         "2006-09-01"
        ],
        [
         457,
         "5250-505 Burning St",
         null,
         "Vancouver",
         "British Columbia",
         "Canada",
         "V7L 4J4",
         "93F02C61-783D-4F04-8A57-416F25817ABA",
         "2006-07-01"
        ],
        [
         456,
         "6777 Kingsway",
         null,
         "Burnaby",
         "British Columbia",
         "Canada",
         "V5H 3Z7",
         "2F3B383E-08A5-407D-AB1B-A1390E87A888",
         "2006-08-01"
        ],
        [
         460,
         "2521 McPherson Street",
         null,
         "Markham",
         "Ontario",
         "Canada",
         "L3S 3K2",
         "7D6F03AC-5D55-422E-850E-B8743FAC81B2",
         "2007-08-01"
        ],
        [
         451,
         "2512-4th Ave Sw",
         null,
         "Calgary",
         "Alberta",
         "Canada",
         "T2P 2G8",
         "49644F1E-6F90-46D9-8DBB-9DB15F0EF7EC",
         "2006-12-01"
        ],
        [
         454,
         "3255 Front Street West",
         null,
         "Toronto",
         "Ontario",
         "Canada",
         "M4B 1V6",
         "EF4DC57D-8B8B-4074-B5F0-ACBEF65DBEC1",
         "2007-08-01"
        ],
        [
         461,
         "2560 Bay Street",
         null,
         "Toronto",
         "Ontario",
         "Canada",
         "M4B 1V7",
         "726819A8-1B02-4EFD-AEB9-3FD801D9F153",
         "2006-08-01"
        ],
        [
         459,
         "25575 The Queensway",
         null,
         "Etobicoke",
         "Ontario",
         "Canada",
         "M9W 3P3",
         "616235EA-DC36-4C39-BF91-FFE12BB676E0",
         "2005-08-01"
        ],
        [
         464,
         "99, Rue Saint-pierre",
         null,
         "Pnot-Rouge",
         "Quebec",
         "Canada",
         "J1E 2T7",
         "C4A1EE36-8149-46B7-A313-A63010987A8E",
         "2005-07-01"
        ],
        [
         473,
         "595 Burning Street",
         null,
         "Vancouver",
         "British Columbia",
         "Canada",
         "V7L 4J4",
         "0EC83A85-137E-4CF3-B13D-3926277698B2",
         "2005-09-01"
        ],
        [
         469,
         "400-25155 West Pender St",
         null,
         "Vancouver",
         "British Columbia",
         "Canada",
         "V7L 4J4",
         "B81768F9-3B05-43DC-8DDE-85FFCA00D4DE",
         "2007-09-01"
        ],
        [
         467,
         "25900-700-9th Ave S.W.",
         null,
         "Calgary",
         "Alberta",
         "Canada",
         "T2P 2G8",
         "13560188-CE4A-470D-9913-49903047D459",
         "2005-11-01"
        ],
        [
         468,
         "Po Box 83270",
         null,
         "Vancouver",
         "British Columbia",
         "Canada",
         "V7L 4J4",
         "C00A5DFF-B134-4900-9561-E67EEB425F9F",
         "2007-08-01"
        ],
        [
         472,
         "250551 Shellbridge Way",
         null,
         "Richmond",
         "British Columbia",
         "Canada",
         "V6B 3P7",
         "1A6A1A7B-E208-473D-A8F4-14A89D06FAD2",
         "2005-09-01"
        ],
        [
         465,
         "25245 Rue Sherbrooke Ouest",
         null,
         "Montreal",
         "Quebec",
         "Canada",
         "H1Y 2H5",
         "10EE8C14-2792-4F02-B83D-92511D20470F",
         "2007-07-01"
        ],
        [
         470,
         "2511 Baker Road",
         null,
         "Toronto",
         "Ontario",
         "Canada",
         "M4B 1V7",
         "6E934D97-69B9-4FCF-9E4E-56BF94E52986",
         "2005-09-01"
        ],
        [
         471,
         "770 Notre Datme Quest Bureau 800",
         null,
         "Montreal",
         "Quebec",
         "Canada",
         "H1Y 2H7",
         "5EDA011D-31D1-4DFB-A78C-397B6335F85B",
         "2005-09-01"
        ],
        [
         466,
         "655-4th Ave S.W.",
         null,
         "Calgary",
         "Alberta",
         "Canada",
         "T2P 2G8",
         "09C5F0BA-7128-4455-832D-0DF587248A5A",
         "2005-08-01"
        ],
        [
         463,
         "992 St Clair Ave East",
         null,
         "Toronto",
         "Ontario",
         "Canada",
         "M4B 1V7",
         "D6ED51FA-6DD1-460C-99E0-64BA90F035AE",
         "2005-09-01"
        ],
        [
         474,
         "252345 8810th Avenue",
         null,
         "Surrey",
         "British Columbia",
         "Canada",
         "V3T 4W3",
         "447CA097-077D-4980-A431-8FAFAD156CED",
         "2005-09-01"
        ],
        [
         475,
         "2512-410th Avenue S.W.",
         null,
         "Calgary",
         "Alberta",
         "Canada",
         "T2P 2G8",
         "EC6C99B9-61E2-4400-8180-208F5A6C7EFF",
         "2007-09-01"
        ],
        [
         480,
         "25 First Canadian Place",
         null,
         "Toronto",
         "Ontario",
         "Canada",
         "M4B 1V5",
         "07A009B2-1421-4597-AB85-22BCE3C82B2C",
         "2005-08-01"
        ],
        [
         486,
         "600 Boul. Rene-levesque Ouest",
         null,
         "Montreal",
         "Quebec",
         "Canada",
         "H1Y 2H7",
         "112049E4-64D5-4305-9545-933E89B74F6E",
         "2006-07-01"
        ],
        [
         484,
         "2510 Crew Court",
         null,
         "Montreal",
         "Quebec",
         "Canada",
         "H1Y 2H8",
         "1F41EDC1-7144-4D6B-9CBD-4318C2358FA1",
         "2008-06-01"
        ],
        [
         481,
         "65 Gamelin Street",
         null,
         "Hull",
         "Quebec",
         "Canada",
         "8Y",
         "F35E73BA-678F-4A0F-80BC-6385A7A6CB24",
         "2006-08-01"
        ],
        [
         482,
         "2500 University Avenue",
         null,
         "Toronto",
         "Ontario",
         "Canada",
         "M4B 1V5",
         "197A1735-E89E-4F15-A5F7-FEB98B369094",
         "2005-07-01"
        ],
        [
         476,
         "258 King Street East",
         null,
         "Toronto",
         "Ontario",
         "Canada",
         "M4B 1V7",
         "90C770A5-A474-43D1-9A67-0F5DE336F9DC",
         "2005-08-01"
        ],
        [
         478,
         "2545 King Street West",
         null,
         "Toronto",
         "Ontario",
         "Canada",
         "M4B 1V7",
         "2817A0B7-8985-4527-BB7B-B75F55F4D8DE",
         "2005-08-01"
        ],
        [
         483,
         "955 Green Valley Crescent",
         null,
         "Ottawa",
         "Ontario",
         "Canada",
         "K4B 1S1",
         "C6B743C3-F830-43E4-BA58-DD36FC451D14",
         "2007-09-01"
        ],
        [
         487,
         "9259 - 1110th Avenue Sw",
         null,
         "Calgary",
         "Alberta",
         "Canada",
         "T2P 2G8",
         "275AC976-0D23-4D97-9F58-BB186D1CC089",
         "2006-09-01"
        ],
        [
         479,
         "2550 Middlefield Road",
         null,
         "Scarborough",
         "Ontario",
         "Canada",
         "M1V 4M2",
         "E60801BF-CFB3-4606-A738-8AA0EB587AFB",
         "2005-08-01"
        ],
        [
         477,
         "6th Floor Ferguson Block",
         null,
         "Toronto",
         "Ontario",
         "Canada",
         "M4B 1V7",
         "39F3B067-2263-4591-ABF9-D5210DA4F783",
         "2005-08-01"
        ],
        [
         485,
         "9900-6400 Boul, Taschereau",
         null,
         "Brossard",
         "Quebec",
         "Canada",
         "J4Z 1R4",
         "7C46D2FC-E31E-402F-A093-4CF18F7F6E54",
         "2006-07-01"
        ],
        [
         488,
         "45259 Canada Way",
         null,
         "Burnaby",
         "British Columbia",
         "Canada",
         "V5G 4S4",
         "6D2D6846-3F17-474E-8D31-AD3A59C0CEB0",
         "2007-08-01"
        ],
        [
         489,
         "9960 King Street E.",
         null,
         "Toronto",
         "Ontario",
         "Canada",
         "M4B 1V5",
         "EB632E56-4299-4714-9E91-224319BDCB62",
         "2007-08-01"
        ],
        [
         493,
         "6th Floor 5250 Main Street",
         null,
         "Winnipeg",
         "Manitoba",
         "Canada",
         "R3",
         "AC0E73D8-FF0A-42BD-8502-E19EBAC7343F",
         "2007-09-01"
        ],
        [
         497,
         "#9900 2700 Production Way",
         null,
         "Burnaby",
         "British Columbia",
         "Canada",
         "V5A 4X1",
         "AA651B28-0A51-4084-8444-A70CC71BCE65",
         "2005-08-01"
        ],
        [
         498,
         "25537 Hillside Avenue",
         null,
         "Victoria",
         "British Columbia",
         "Canada",
         "V8V",
         "385C24E0-E20C-40C9-BAC9-95D70D5B6900",
         "2005-08-01"
        ],
        [
         495,
         "Suite 800 2530 Slater Street",
         null,
         "Ottawa",
         "Ontario",
         "Canada",
         "K4B 1T7",
         "C6633AD5-006D-4967-B97E-7919DD48A700",
         "2006-09-01"
        ],
        [
         491,
         "20225 Lansing Ave",
         null,
         "Montreal",
         "Quebec",
         "Canada",
         "H1Y 2H7",
         "A9B5A261-2463-4489-9951-EACFA29A8231",
         "2007-09-01"
        ],
        [
         496,
         "Suite 500 995 W. 11th Avenue",
         null,
         "Mississauga",
         "Ontario",
         "Canada",
         "L5A 1H6",
         "496C1AD3-2925-4322-8811-890AB6107F67",
         "2007-08-01"
        ],
        [
         490,
         "9979 Bayview Drive",
         null,
         "Barrie",
         "Ontario",
         "Canada",
         "L4N",
         "85D72A98-F631-457C-8FFF-04FAEC508F5D",
         "2006-08-01"
        ],
        [
         499,
         "Suite 2502 410 Albert Street",
         null,
         "Waterloo",
         "Ontario",
         "Canada",
         "N2V",
         "44099B0E-03F3-447C-83BF-BE4BAA010A83",
         "2006-08-01"
        ],
        [
         494,
         "Box 99354 300 Union Street",
         null,
         "Saint John",
         "Brunswick",
         "Canada",
         "E2P 1E3",
         "21FF77A8-39DC-44D8-917C-FDD645DBF9EB",
         "2006-07-01"
        ],
        [
         492,
         "99954 Boul. Laurier, Local 060, Place",
         null,
         "Sainte-Foy",
         "Quebec",
         "Canada",
         "G1W",
         "541CDE7C-3F3A-435F-A7B5-F30055DFBC68",
         "2007-09-01"
        ],
        [
         511,
         "Bureau 9900 825, Avenue Querbes",
         null,
         "Outremont",
         "Quebec",
         "Canada",
         "H1Y 2G5",
         "EF10CF20-A540-4D5C-BEFD-1B48B7D48402",
         "2006-12-01"
        ],
        [
         507,
         "975 Princess Street",
         null,
         "Kingston",
         "Ontario",
         "Canada",
         "7L",
         "D7849F5F-C042-4FCE-8F6B-BA5CD8708E10",
         "2007-09-01"
        ],
        [
         506,
         "255117 - 101 Avenue",
         null,
         "Surrey",
         "British Columbia",
         "Canada",
         "V3T 4W3",
         "22895B47-6086-4550-B437-A75DBEDFE1D9",
         "2005-08-01"
        ],
        [
         512,
         "700 Bureau Road",
         null,
         "Montreal",
         "Quebec",
         "Canada",
         "H1Y 2H7",
         "963F514B-7752-46E8-9742-1FD40A68EA33",
         "2007-09-01"
        ],
        [
         501,
         "965 De La Gauchetiere West",
         null,
         "Montreal",
         "Quebec",
         "Canada",
         "H1Y 2H8",
         "ACB9C033-18C6-4F02-975E-9C5226B96B72",
         "2005-08-01"
        ],
        [
         505,
         "6400, 888 - 3rd Avenue",
         null,
         "Calgary",
         "Alberta",
         "Canada",
         "T2P 2G8",
         "A6EFF2B6-3B11-47EF-AB7E-701E5041C71C",
         "2005-08-01"
        ],
        [
         503,
         "P.O. Box 44000",
         null,
         "Winnipeg",
         "Manitoba",
         "Canada",
         "R3",
         "C4F3E274-13E1-4A99-8FD3-2C7D3D1EE5A1",
         "2005-08-01"
        ],
        [
         502,
         "No. 25400 10665 Jasper Avenue",
         null,
         "Edmonton",
         "Alberta",
         "Canada",
         "T5",
         "51180CA2-6614-46A5-B89C-EF7B0421C847",
         "2006-08-01"
        ],
        [
         508,
         "2900 - 25055 Dunning Street",
         null,
         "Vancouver",
         "British Columbia",
         "Canada",
         "V7L 4J4",
         "4EE0334F-027C-4036-880F-6E9104E21533",
         "2006-12-01"
        ],
        [
         509,
         "Suite 25800 3401 - 10810th Avenue",
         null,
         "Surrey",
         "British Columbia",
         "Canada",
         "V3T 4W3",
         "28C52717-7117-41B6-A5C7-FDA60D566163",
         "2005-08-01"
        ],
        [
         504,
         "Suite 99320 255 - 510th Avenue S.W.",
         null,
         "Calgary",
         "Alberta",
         "Canada",
         "T2P 2G8",
         "CFF7437F-6830-4797-875B-D9A54EA38975",
         "2005-08-01"
        ],
        [
         500,
         "5700 Explorer Drive",
         null,
         "Mississauga",
         "Ontario",
         "Canada",
         "L4W 5J3",
         "F6FED7FA-39D9-4A60-A1F5-1622489E55FD",
         "2005-08-01"
        ],
        [
         510,
         "750 Philip Street",
         null,
         "Waterloo",
         "Ontario",
         "Canada",
         "N2V",
         "F2B96299-187A-4E52-96DE-FE9D1C8AB33F",
         "2005-11-01"
        ],
        [
         516,
         "251 Indell Lane",
         null,
         "Brampton",
         "Ontario",
         "Canada",
         "L6W 2T7",
         "A1F36994-B5B3-4646-87EA-692A513395EA",
         "2006-08-01"
        ],
        [
         515,
         "9900 Ronson Drive",
         null,
         "Etobicoke",
         "Ontario",
         "Canada",
         "M9W 3P3",
         "42242712-6DD2-423F-9B89-C953454E3B09",
         "2006-07-01"
        ],
        [
         519,
         "2500-622 5th Ave Sw",
         null,
         "Calgary",
         "Alberta",
         "Canada",
         "T2P 2G8",
         "13754965-6A09-4343-968C-8699C27FDFAA",
         "2006-08-01"
        ],
        [
         514,
         "63 West Beaver Creek",
         null,
         "Richmond Hill",
         "Ontario",
         "Canada",
         "L4E 3M5",
         "AD60DBA9-3B01-47E9-BB5E-DF94D0579F14",
         "2006-09-01"
        ],
        [
         517,
         "2573 Dufferin Street",
         null,
         "Toronto",
         "Ontario",
         "Canada",
         "M4B 1V5",
         "97605C5C-8309-44F2-9A98-C5A5709497FF",
         "2005-07-01"
        ],
        [
         513,
         "253711 Mayfield Place, Unit 150",
         null,
         "Richmond",
         "British Columbia",
         "Canada",
         "V6B 3P7",
         "C418C2F4-6B32-4404-AAB1-E0BEC3958C11",
         "2007-09-01"
        ],
        [
         518,
         "995 Crescent",
         null,
         "Richmond Hill",
         "Ontario",
         "Canada",
         "L4E 3M5",
         "0B49022D-8B49-4CF6-B0A3-46231CD48441",
         "2007-09-01"
        ],
        [
         524,
         "9693 Louis H Lafontaine",
         null,
         "Ville De'anjou",
         "Quebec",
         "Canada",
         "J1G 2R3",
         "ACC21BD9-FB1B-4764-941B-2FB98AA4EB27",
         "2006-08-01"
        ],
        [
         522,
         "43251 Viking Way, Unit 130",
         null,
         "Richmond",
         "British Columbia",
         "Canada",
         "V6B 3P7",
         "842BCBE5-9DA5-42D5-A4BB-4197DB5B69C7",
         "2007-02-01"
        ],
        [
         521,
         "55 Standish Court",
         null,
         "Mississauga",
         "Ontario",
         "Canada",
         "L5B 3V4",
         "97C329E2-FA67-4478-AA7B-78A8DEECF7CA",
         "2006-09-01"
        ],
        [
         520,
         "6700 Boul Taschereau",
         null,
         "Brossard",
         "Quebec",
         "Canada",
         "J4Z 1C5",
         "B730EAFF-5828-4C8C-86C1-9137F50FCA48",
         "2005-09-01"
        ],
        [
         523,
         "46990 Viking Way",
         null,
         "Richmond",
         "British Columbia",
         "Canada",
         "V6B 3P7",
         "85C88CD6-682C-4358-9F8C-5A24F4CCFD98",
         "2005-08-01"
        ],
        [
         532,
         "#500-75 O'Connor Street",
         null,
         "Ottawa",
         "Ontario",
         "Canada",
         "K4B 1S2",
         "1B58B9BC-A691-4927-BF17-569E4BE822F3",
         "2005-12-01"
        ],
        [
         531,
         "5th Floor, 79 Place D'armes",
         null,
         "Kingston",
         "Ontario",
         "Canada",
         "7L",
         "F6FB5F79-C5FA-4A7C-8D75-6E9243360308",
         "2006-11-01"
        ],
        [
         528,
         "5990 Avebury Road",
         null,
         "Mississauga",
         "Ontario",
         "Canada",
         "L5B 3V4",
         "D9928CCC-FC35-435A-8A0F-6887813E0E06",
         "2005-09-01"
        ],
        [
         526,
         "251420a 170th Street",
         null,
         "Edmonton",
         "Alberta",
         "Canada",
         "T5",
         "476D80AE-69A0-480D-9DF3-8FD0C1095A21",
         "2006-07-01"
        ],
        [
         535,
         "250 Kingsbridge Garden Circle",
         null,
         "Mississauga",
         "Ontario",
         "Canada",
         "L5B 3V4",
         "9771494E-9053-40F2-84A5-E0D108DEEFED",
         "2005-11-01"
        ],
        [
         527,
         "252851 Rowan Place",
         null,
         "Richmond",
         "British Columbia",
         "Canada",
         "V6B 3P7",
         "11EAEE50-8A14-4B81-951E-86701B6F60C0",
         "2006-09-01"
        ],
        [
         536,
         "No. 2000-25080 Beaver Hall Hill",
         null,
         "Quebec",
         "Quebec",
         "Canada",
         "G1R",
         "0C38C439-4562-4E37-8F23-AFF2C9005C38",
         "2006-09-01"
        ],
        [
         534,
         "Depot 80",
         null,
         "Sillery",
         "Quebec",
         "Canada",
         "G1T",
         "3178440D-5C3A-48F2-AF6B-0A607774E265",
         "2005-08-01"
        ],
        [
         530,
         "Suite #9902",
         null,
         "North York",
         "Ontario",
         "Canada",
         "M4C 4K6",
         "FE36E0C8-AD8A-4D2C-BC53-5D69BE5A9CE7",
         "2005-07-01"
        ],
        [
         537,
         "No. 25800-130 King Street West",
         null,
         "Toronto",
         "Ontario",
         "Canada",
         "M4B 1V5",
         "C2BCDAEC-366C-489C-BF43-8CC2881179F3",
         "2005-09-01"
        ],
        [
         529,
         "254480 River Rd",
         null,
         "Richmond",
         "British Columbia",
         "Canada",
         "V6B 3P7",
         "034076FD-CD0E-4EAD-864E-8CE7F47D6612",
         "2005-07-01"
        ],
        [
         533,
         "4400 March Road",
         null,
         "Kanata",
         "Ontario",
         "Canada",
         "K2L 1H5",
         "43484CD9-AD5B-41F4-A9CC-DDFBAC4B5AA5",
         "2005-11-01"
        ],
        [
         525,
         "69251 Creditview Road",
         null,
         "Mississauga",
         "Ontario",
         "Canada",
         "L5B 3V4",
         "2CA11975-213A-46FB-A0BE-2529003074CC",
         "2005-07-01"
        ]
       ],
       "datasetInfos": [],
       "dbfsResultPath": null,
       "isJsonSchema": true,
       "metadata": {},
       "overflow": false,
       "plotOptions": {
        "customPlotOptions": {},
        "displayType": "table",
        "pivotAggregation": null,
        "pivotColumns": null,
        "xColumns": null,
        "yColumns": null
       },
       "removedWidgets": [],
       "schema": [
        {
         "metadata": "{}",
         "name": "address_id",
         "type": "\"long\""
        },
        {
         "metadata": "{}",
         "name": "address_line1",
         "type": "\"string\""
        },
        {
         "metadata": "{}",
         "name": "address_line2",
         "type": "\"double\""
        },
        {
         "metadata": "{}",
         "name": "city",
         "type": "\"string\""
        },
        {
         "metadata": "{}",
         "name": "state_province",
         "type": "\"string\""
        },
        {
         "metadata": "{}",
         "name": "country_region",
         "type": "\"string\""
        },
        {
         "metadata": "{}",
         "name": "postal_code",
         "type": "\"string\""
        },
        {
         "metadata": "{}",
         "name": "rowguid",
         "type": "\"string\""
        },
        {
         "metadata": "{}",
         "name": "modified_date",
         "type": "\"string\""
        }
       ],
       "type": "table"
      }
     },
     "output_type": "display_data"
    }
   ],
   "source": [
    "display(df_dict_T_S[\"SalesLT.Address\"])"
   ]
  },
  {
   "cell_type": "code",
   "execution_count": 0,
   "metadata": {
    "application/vnd.databricks.v1+cell": {
     "cellMetadata": {},
     "inputWidgets": {},
     "nuid": "4d80f077-76b7-4d4d-ac38-58c1f795f5ef",
     "showTitle": false,
     "tableResultSettingsMap": {},
     "title": ""
    }
   },
   "outputs": [],
   "source": []
  }
 ],
 "metadata": {
  "application/vnd.databricks.v1+notebook": {
   "computePreferences": null,
   "dashboards": [],
   "environmentMetadata": {
    "base_environment": "",
    "client": "1"
   },
   "language": "python",
   "notebookMetadata": {
    "pythonIndentUnit": 4
   },
   "notebookName": "DE-BP-Project-01-T-03",
   "widgets": {}
  }
 },
 "nbformat": 4,
 "nbformat_minor": 0
}
